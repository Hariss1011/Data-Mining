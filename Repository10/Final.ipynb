{
 "cells": [
  {
   "cell_type": "code",
   "execution_count": 1,
   "id": "c5948506-b4be-4f4d-a190-4e536fc01cca",
   "metadata": {},
   "outputs": [],
   "source": [
    "import pandas as pd\n",
    "from sklearn.preprocessing import StandardScaler\n",
    "from sklearn.cluster import KMeans\n",
    "import matplotlib.pyplot as plt"
   ]
  },
  {
   "cell_type": "markdown",
   "id": "c82953ef-4beb-4362-852d-dc16ac3b9232",
   "metadata": {},
   "source": [
    "##### Tahap 1: Memuat Data\n",
    "Pertama, kita perlu memuat data dari file Excel yang telah Anda sediakan. Kita akan menggunakan pustaka pandas untuk ini."
   ]
  },
  {
   "cell_type": "code",
   "execution_count": 3,
   "id": "3e932b08-6e4b-456a-a8c6-ae0191c7a8fe",
   "metadata": {},
   "outputs": [],
   "source": [
    "# Langkah 1: Memuat data dari file Excel\n",
    "kepadatan_data = pd.read_excel('Kepadatan_Penduduk_menurut_Provinsi.xlsx')\n",
    "jumlah_data = pd.read_excel('Jumlah_Penduduk.xlsx')\n",
    "covid_data = pd.read_excel('Statistik_Harian_per_Provinsi_COVID19_Indonesia_Rev.xlsx')"
   ]
  },
  {
   "cell_type": "markdown",
   "id": "310b206a-e468-4251-a5ee-02ba9952e549",
   "metadata": {},
   "source": [
    "- Memuat Data: Membaca data dari tiga file Excel ke dalam tiga DataFrame terpisah (kepadatan_data, jumlah_data, dan covid_data). Setiap DataFrame berisi data terkait kepadatan penduduk, jumlah penduduk, dan statistik COVID-19."
   ]
  },
  {
   "cell_type": "markdown",
   "id": "61a8dcad-0ea9-4be4-bb3a-a212b02b0c7d",
   "metadata": {},
   "source": [
    "##### Tahap 2: Memeriksa dan Menyesuaikan Nama Kolom\n",
    "Sebelum menggabungkan data, kita perlu memeriksa nama kolom di setiap DataFrame untuk memastikan bahwa kita dapat menggabungkannya dengan benar."
   ]
  },
  {
   "cell_type": "code",
   "execution_count": 4,
   "id": "dd4d8555-be8c-40be-a5ae-8789e20393be",
   "metadata": {},
   "outputs": [],
   "source": [
    "# Langkah 2: Mengganti nama kolom untuk memastikan konsistensi\n",
    "kepadatan_data.rename(columns={'Provinsi': 'Province'}, inplace=True)\n",
    "jumlah_data.rename(columns={'Provinsi': 'Province'}, inplace=True)\n",
    "covid_data.rename(columns={'Provinsi': 'Province'}, inplace=True)"
   ]
  },
  {
   "cell_type": "markdown",
   "id": "3cb3fd52-8e83-49c2-8d77-588d901fe17c",
   "metadata": {},
   "source": [
    "Jika nama kolom tidak konsisten (misalnya, ada spasi atau perbedaan huruf besar/kecil), kita perlu menyesuaikannya. Misalnya, jika kolom provinsi di semua DataFrame tidak konsisten, kita bisa menggantinya."
   ]
  },
  {
   "cell_type": "markdown",
   "id": "c58a4741-a2f2-4c44-b4fe-5408e94a3d02",
   "metadata": {},
   "source": [
    "##### Langkah 3: Menggabungkan Dataset Berdasarkan Kolom 'Province'"
   ]
  },
  {
   "cell_type": "code",
   "execution_count": 5,
   "id": "a2825ef9-3738-4df1-aeef-196b92265005",
   "metadata": {},
   "outputs": [],
   "source": [
    "# Langkah 3: Menggabungkan dataset berdasarkan kolom 'Province'\n",
    "merged_data = pd.merge(kepadatan_data, jumlah_data, on='Province')\n",
    "merged_data = pd.merge(merged_data, covid_data, on='Province')"
   ]
  },
  {
   "cell_type": "markdown",
   "id": "240363fb-201d-48c4-bf49-d10633d5b40c",
   "metadata": {},
   "source": [
    "- Menggabungkan DataFrame: Menggabungkan ketiga DataFrame menjadi satu (merged_data) berdasarkan kolom Province. Ini menggabungkan data kepadatan penduduk, jumlah penduduk, dan statistik COVID-19."
   ]
  },
  {
   "cell_type": "markdown",
   "id": "d2468959-e7be-44b0-803f-6b6c63b309a7",
   "metadata": {},
   "source": [
    "##### Langkah 4: Memeriksa Nama Kolom pada DataFrame yang Digabungkan"
   ]
  },
  {
   "cell_type": "code",
   "execution_count": 19,
   "id": "f38a022b-7923-4f30-a574-75ad3e8561b4",
   "metadata": {},
   "outputs": [
    {
     "name": "stdout",
     "output_type": "stream",
     "text": [
      "Merged Data Columns:\n",
      "- Unnamed: 0\n",
      "- Province\n",
      "- Kepadatan Penduduk menurut Provinsi (jiwa/km2)\n",
      "- Unnamed: 3_x\n",
      "- Unnamed: 4_x\n",
      "- Unnamed: 5_x\n",
      "- Unnamed: 6_x\n",
      "- Unnamed: 7_x\n",
      "- Unnamed: 8_x\n",
      "- Unnamed: 9_x\n",
      "- Unnamed: 10\n",
      "- Unnamed: 11\n",
      "- Jumlah Penduduk Hasil Proyeksi Menurut Provinsi dan Jenis Kelamin (Ribu Jiwa)\n",
      "- Unnamed: 2\n",
      "- Unnamed: 3_y\n",
      "- Unnamed: 4_y\n",
      "- Unnamed: 5_y\n",
      "- Unnamed: 6_y\n",
      "- Unnamed: 7_y\n",
      "- Unnamed: 8_y\n",
      "- Unnamed: 9_y\n",
      "- Object_ID\n",
      "- Tanggal\n",
      "- Kasus_Terkonfirmasi_Akumulatif\n",
      "- Penambahan_Harian_Kasus_Terkonf\n",
      "- Kasus_Sembuh_Akumulatif\n",
      "- Penambahan_Harian_Kasus_Sembuh\n",
      "- Kasus_Meninggal_Akumulatif\n",
      "- Penambahan_Harian_Kasus_Meningg\n",
      "- Kasus_Aktif_Akumulatif\n",
      "- CFR_Harian\n",
      "- RI_Harian\n",
      "- FID\n",
      "- ObjectId\n"
     ]
    }
   ],
   "source": [
    "# Langkah 4: Memeriksa nama kolom pada DataFrame yang digabungkan\n",
    "print(\"Merged Data Columns:\")\n",
    "for column in merged_data.columns:\n",
    "    print(f\"- {column}\")"
   ]
  },
  {
   "cell_type": "markdown",
   "id": "2bb64afc-869b-4b1a-a915-bc07f66572b5",
   "metadata": {},
   "source": [
    "- Memeriksa Nama Kolom: Mencetak nama kolom dari DataFrame yang digabungkan untuk memverifikasi bahwa penggabungan berhasil dan untuk melihat kolom apa saja yang tersedia."
   ]
  },
  {
   "cell_type": "markdown",
   "id": "02b6938b-d97c-4f23-8acc-9901d64d1259",
   "metadata": {},
   "source": [
    "##### Langkah 5: Menghapus Spasi di Awal dan Akhir Nama Kolom"
   ]
  },
  {
   "cell_type": "code",
   "execution_count": 7,
   "id": "12978cb8-4464-4f08-9e42-68cb318c7327",
   "metadata": {},
   "outputs": [],
   "source": [
    "# Langkah 5: Menghapus spasi di awal dan akhir nama kolom\n",
    "merged_data.columns = merged_data.columns.str.strip()"
   ]
  },
  {
   "cell_type": "markdown",
   "id": "b13e42b4-25a2-4528-9973-e10b49e733cb",
   "metadata": {},
   "source": [
    "- Membersihkan Nama Kolom: Menghapus spasi di awal dan akhir dari nama kolom dalam DataFrame yang digabungkan untuk menghindari masalah saat merujuk nama kolom di kemudian hari."
   ]
  },
  {
   "cell_type": "markdown",
   "id": "c6526850-2892-478e-8319-7e6e0d10cf58",
   "metadata": {},
   "source": [
    "##### Langkah 6: Memilih Fitur yang Relevan untuk Clustering"
   ]
  },
  {
   "cell_type": "code",
   "execution_count": 24,
   "id": "0cfc7f06-6f47-4cce-a717-292a3e7b51fb",
   "metadata": {},
   "outputs": [
    {
     "name": "stdout",
     "output_type": "stream",
     "text": [
      "KeyError: \"None of [Index(['Kepadatan Penduduk', 'Jumlah Penduduk', 'Kasus COVID', 'PDB',\\n       'Tingkat Urbanisasi', 'Indeks Kesehatan', 'Tingkat Pendidikan',\\n       'Tingkat Ketenagakerjaan'],\\n      dtype='object')] are in the [columns]\". Silakan periksa nama kolom di merged_data.\n"
     ]
    }
   ],
   "source": [
    "# Langkah 6: Memilih fitur yang relevan untuk clustering\n",
    "try:\n",
    "    features = merged_data[['Kepadatan Penduduk', 'Jumlah Penduduk', 'Kasus COVID', \n",
    "                            'PDB', 'Tingkat Urbanisasi', 'Indeks Kesehatan', \n",
    "                            'Tingkat Pendidikan', 'Tingkat Ketenagakerjaan']]\n",
    "    \n",
    "    # Menampilkan nama kolom yang dipilih dengan rapi\n",
    "    print(\"Selected Features Columns:\")\n",
    "    for column in features.columns:\n",
    "        print(f\"- {column}\")  # Menampilkan setiap kolom di baris baru\n",
    "except KeyError as e:\n",
    "    print(f\"KeyError: {e}. Silakan periksa nama kolom di merged_data.\")\n",
    "    features = None  # Set features menjadi None untuk menghindari kesalahan lebih lanjut"
   ]
  },
  {
   "cell_type": "markdown",
   "id": "7736f09f-01de-4bfc-bb91-6b41bf1a2576",
   "metadata": {},
   "source": [
    "- Memilih Fitur: Mencoba untuk membuat DataFrame baru (features) yang hanya berisi kolom-kolom relevan yang diperlukan untuk clustering. Jika ada kolom yang tidak ada dalam merged_data, maka akan muncul KeyError, dan pesan kesalahan akan dicetak. Variabel features diatur menjadi None untuk mencegah kesalahan lebih lanjut jika pemilihan gagal."
   ]
  },
  {
   "cell_type": "markdown",
   "id": "a026ce56-991f-4c26-969d-ee8d1d36f12f",
   "metadata": {},
   "source": [
    "##### Langkah 7: Menormalkan Data"
   ]
  },
  {
   "cell_type": "code",
   "execution_count": 12,
   "id": "af8fb3b1-b928-4394-8ded-646759a85edd",
   "metadata": {},
   "outputs": [
    {
     "name": "stdout",
     "output_type": "stream",
     "text": [
      "Fitur tidak berhasil dipilih, normalisasi tidak dilakukan.\n"
     ]
    }
   ],
   "source": [
    "# Langkah 7: Menormalkan data\n",
    "if features is not None:\n",
    "    scaler = StandardScaler()\n",
    "    normalized_data = scaler.fit_transform(features)\n",
    "    print(\"Data telah dinormalisasi.\")  # Baris debugging\n",
    "else:\n",
    "    print(\"Fitur tidak berhasil dipilih, normalisasi tidak dilakukan.\")\n",
    "    normalized_data = None  # Set normalized_data menjadi None untuk menghindari kesalahan lebih lanjut"
   ]
  },
  {
   "cell_type": "markdown",
   "id": "10006228-0209-49d2-9825-5307d83dc73f",
   "metadata": {},
   "source": [
    "- Tujuan: Menstandarkan data agar semua fitur memiliki skala yang sama (rata-rata 0 dan deviasi standar 1).\n",
    "- Proses:\n",
    "    - Memeriksa apakah fitur yang relevan telah dipilih.\n",
    "    - Menggunakan StandardScaler untuk menormalkan data.\n",
    "    - Jika normalisasi berhasil, data disimpan dalam variabel normalized_data."
   ]
  },
  {
   "cell_type": "markdown",
   "id": "74b7f73f-2e1f-4706-9657-26bd4f864e7f",
   "metadata": {},
   "source": [
    "##### Langkah 8: Melakukan Clustering dengan K-Means"
   ]
  },
  {
   "cell_type": "code",
   "execution_count": 13,
   "id": "32282916-56c8-4a60-b211-d011d2e67d9a",
   "metadata": {},
   "outputs": [
    {
     "name": "stdout",
     "output_type": "stream",
     "text": [
      "Normalisasi data gagal, clustering tidak dilakukan.\n"
     ]
    }
   ],
   "source": [
    "# Langkah 8: Melakukan clustering dengan K-Means\n",
    "if normalized_data is not None:\n",
    "    cluster_numbers = [3, 4, 5, 6, 7]\n",
    "    cluster_labels = {}\n",
    "\n",
    "    for n_clusters in cluster_numbers:\n",
    "        kmeans = KMeans(n_clusters=n_clusters, random_state=42)\n",
    "        labels = kmeans.fit_predict(normalized_data)\n",
    "        cluster_labels[n_clusters] = labels\n",
    "\n",
    "        # Visualisasi hasil clustering\n",
    "        plt.figure(figsize=(8, 6))\n",
    "        plt.scatter(normalized_data[:, 0], normalized_data[:, 1], c=labels, cmap='viridis')\n",
    "        plt.title(f'K-Means Clustering dengan {n_clusters} Cluster')\n",
    "        plt.xlabel('Fitur 1')\n",
    "        plt.ylabel('Fitur 2')\n",
    "        plt.show()\n",
    "else:\n",
    "    print(\"Normalisasi data gagal, clustering tidak dilakukan.\")"
   ]
  },
  {
   "cell_type": "markdown",
   "id": "b61c9b54-abfe-4a61-a2d8-3a5be8847cb6",
   "metadata": {},
   "source": [
    "- Tujuan: Mengelompokkan data ke dalam beberapa cluster menggunakan algoritma K-Means.\n",
    "- Proses:\n",
    "    - Memeriksa apakah data yang dinormalisasi ada.\n",
    "    - Menguji berbagai jumlah cluster (3, 4, 5, 6, dan 7).\n",
    "    - Untuk setiap jumlah cluster, K-Means menghitung centroid dan mengelompokkan data.\n",
    "    - Hasil clustering divisualisasikan dengan plot sebar untuk menunjukkan distribusi data dalam cluster yang berbeda."
   ]
  },
  {
   "cell_type": "markdown",
   "id": "9fb8d1d2-4521-43a3-8fb2-2b27875255da",
   "metadata": {},
   "source": [
    "##### Langkah 9: Menetapkan Zona Berdasarkan Label Cluster"
   ]
  },
  {
   "cell_type": "code",
   "execution_count": 14,
   "id": "468ed8f0-7ff8-4e9e-addf-e63dfc997063",
   "metadata": {},
   "outputs": [],
   "source": [
    "# Langkah 9: Menetapkan zona berdasarkan label cluster\n",
    "zone_mapping = {\n",
    "    0: 'Hijau',\n",
    "    1: 'Kuning',\n",
    "    2: 'Merah',\n",
    "    3: 'Hitam',\n",
    "}"
   ]
  },
  {
   "cell_type": "markdown",
   "id": "c189308b-23e7-4be5-8074-b6ab600466e3",
   "metadata": {},
   "source": [
    "- Pemetaan Zona: Mendefinisikan pemetaan label cluster ke nama zona. Setiap cluster diberikan nama deskriptif (misalnya, \"Hijau\" untuk zona hijau, \"Kuning\" untuk zona kuning, dll.)."
   ]
  },
  {
   "cell_type": "markdown",
   "id": "136f9a67-fa88-4118-a0f8-c6acaa9af6d9",
   "metadata": {},
   "source": [
    "##### Langkah 10: Menambahkan Informasi Zona ke DataFrame yang Digabungkan"
   ]
  },
  {
   "cell_type": "code",
   "execution_count": 15,
   "id": "8d1e9c81-1af1-4cf2-a3a1-6b20d498e0cc",
   "metadata": {},
   "outputs": [],
   "source": [
    "# Langkah 10: Menambahkan informasi zona ke data yang digabungkan\n",
    "for n_clusters, labels in cluster_labels.items():\n",
    "    merged_data[f'Zone_{n_clusters}'] = [zone_mapping[label] for label in labels]"
   ]
  },
  {
   "cell_type": "markdown",
   "id": "ffb73d45-02c8-4802-aeea-eefd0c0b7dab",
   "metadata": {},
   "source": [
    "- Menambahkan Informasi Zona: Menambahkan kolom baru ke DataFrame merged_data untuk setiap jumlah cluster, yang menunjukkan zona yang ditetapkan untuk setiap provinsi berdasarkan label cluster-nya."
   ]
  },
  {
   "cell_type": "markdown",
   "id": "1cbfcb0d-c02d-46a6-be07-d6c68233bc3c",
   "metadata": {},
   "source": [
    "##### Langkah 11: Menyimpan DataFrame Akhir ke File Excel"
   ]
  },
  {
   "cell_type": "code",
   "execution_count": 16,
   "id": "44b9731a-1af4-410d-8517-579874ecb65d",
   "metadata": {},
   "outputs": [
    {
     "name": "stdout",
     "output_type": "stream",
     "text": [
      "Clustering selesai dan hasil disimpan ke 'Final_Clustered_Data.xlsx'.\n"
     ]
    }
   ],
   "source": [
    "# Langkah 11: Menyimpan DataFrame akhir ke file Excel\n",
    "merged_data.to_excel('Final_Clustered_Data.xlsx', index=False)\n",
    "\n",
    "print(\"Clustering selesai dan hasil disimpan ke 'Final_Clustered_Data.xlsx'.\")"
   ]
  },
  {
   "cell_type": "markdown",
   "id": "fdc669db-981e-482b-8b26-c5e2e19b8c8d",
   "metadata": {},
   "source": [
    "- Menyimpan Hasil: Menyimpan DataFrame merged_data, yang sekarang mencakup hasil clustering dan informasi zona, ke file Excel baru bernama Final_Clustered_Data.xlsx. Argumen index=False mencegah pandas menulis indeks baris ke file."
   ]
  },
  {
   "cell_type": "markdown",
   "id": "3e0d4df3-ea80-41c7-973c-c6f2ebb70926",
   "metadata": {},
   "source": [
    "##### Memfilter Data untuk Provinsi Tertentu\n",
    "Jika Anda ingin memfilter data hanya untuk provinsi tertentu seperti Jawa Timur dan DKI Jakarta,"
   ]
  },
  {
   "cell_type": "code",
   "execution_count": 17,
   "id": "8dff3b2f-9814-4c3b-a5fa-c9afef61a1fb",
   "metadata": {},
   "outputs": [],
   "source": [
    "# Memfilter data untuk provinsi tertentu (Jawa Timur dan DKI Jakarta)\n",
    "filtered_data = merged_data[merged_data['Province'].isin(['Jawa Timur', 'DKI Jakarta'])]"
   ]
  },
  {
   "cell_type": "markdown",
   "id": "fa02bb4e-f2b0-4fa2-a6a0-0e50607e29d6",
   "metadata": {},
   "source": [
    "- Kemudian, gunakan filtered_data sebagai pengganti merged_data di langkah-langkah berikutnya."
   ]
  }
 ],
 "metadata": {
  "kernelspec": {
   "display_name": "Python 3 (ipykernel)",
   "language": "python",
   "name": "python3"
  },
  "language_info": {
   "codemirror_mode": {
    "name": "ipython",
    "version": 3
   },
   "file_extension": ".py",
   "mimetype": "text/x-python",
   "name": "python",
   "nbconvert_exporter": "python",
   "pygments_lexer": "ipython3",
   "version": "3.12.6"
  }
 },
 "nbformat": 4,
 "nbformat_minor": 5
}
