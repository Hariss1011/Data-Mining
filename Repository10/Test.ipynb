{
 "cells": [
  {
   "cell_type": "markdown",
   "id": "3a0efbbb-c54a-49dd-b97c-67b03a19e046",
   "metadata": {},
   "source": [
    "##### Tahap 1: Memuat Data\n",
    "Pertama, kita perlu memuat data dari file Excel yang telah Anda sediakan. Kita akan menggunakan pustaka pandas untuk ini."
   ]
  },
  {
   "cell_type": "code",
   "execution_count": 30,
   "id": "976c8b78-869b-4363-b286-5b1a4496df74",
   "metadata": {},
   "outputs": [],
   "source": [
    "import pandas as pd\n",
    "\n",
    "# Memuat data dari file Excel\n",
    "kepadatan_data = pd.read_excel('Kepadatan_Penduduk_menurut_Provinsi.xlsx')\n",
    "jumlah_data = pd.read_excel('Jumlah_Penduduk.xlsx')\n",
    "covid_data = pd.read_excel('Statistik_Harian_per_Provinsi_COVID19_Indonesia_Rev.xlsx')"
   ]
  },
  {
   "cell_type": "markdown",
   "id": "a1b8df26-1fec-4cdc-b77e-2b7900b101f5",
   "metadata": {},
   "source": [
    "##### Tahap 2: Memeriksa dan Menyesuaikan Nama Kolom\n",
    "Sebelum menggabungkan data, kita perlu memeriksa nama kolom di setiap DataFrame untuk memastikan bahwa kita dapat menggabungkannya dengan benar."
   ]
  },
  {
   "cell_type": "code",
   "execution_count": 37,
   "id": "fa4f6978-9d77-4b5f-83e5-9701a30014fb",
   "metadata": {},
   "outputs": [
    {
     "name": "stdout",
     "output_type": "stream",
     "text": [
      "Kepadatan Data Columns: ['Unnamed: 0', 'Province', 'Kepadatan Penduduk menurut Provinsi (jiwa/km2)', 'Unnamed: 3', 'Unnamed: 4', 'Unnamed: 5', 'Unnamed: 6', 'Unnamed: 7', 'Unnamed: 8', 'Unnamed: 9', 'Unnamed: 10', 'Unnamed: 11']\n",
      "Jumlah Data Columns: ['Province', 'Jumlah Penduduk Hasil Proyeksi Menurut Provinsi dan Jenis Kelamin (Ribu Jiwa)', 'Unnamed: 2', 'Unnamed: 3', 'Unnamed: 4', 'Unnamed: 5', 'Unnamed: 6', 'Unnamed: 7', 'Unnamed: 8', 'Unnamed: 9']\n",
      "COVID Data Columns: ['Object_ID', 'Province', 'Tanggal', 'Kasus_Terkonfirmasi_Akumulatif', 'Penambahan_Harian_Kasus_Terkonf', 'Kasus_Sembuh_Akumulatif', 'Penambahan_Harian_Kasus_Sembuh', 'Kasus_Meninggal_Akumulatif', 'Penambahan_Harian_Kasus_Meningg', 'Kasus_Aktif_Akumulatif', 'CFR_Harian', 'RI_Harian', 'FID', 'ObjectId']\n"
     ]
    }
   ],
   "source": [
    "# Cek nama kolom di setiap DataFrame\n",
    "print(\"Kepadatan Data Columns:\", kepadatan_data.columns.tolist())\n",
    "print(\"Jumlah Data Columns:\", jumlah_data.columns.tolist())\n",
    "print(\"COVID Data Columns:\", covid_data.columns.tolist())"
   ]
  },
  {
   "cell_type": "markdown",
   "id": "fcd791fa-3f49-4a22-b7f9-fc6576a20aeb",
   "metadata": {},
   "source": [
    "Jika nama kolom tidak konsisten (misalnya, ada spasi atau perbedaan huruf besar/kecil), kita perlu menyesuaikannya. Misalnya, jika kolom provinsi di semua DataFrame tidak konsisten, kita bisa menggantinya."
   ]
  },
  {
   "cell_type": "code",
   "execution_count": 32,
   "id": "ba906abf-a025-4db2-b1d1-26eb74cdd7a9",
   "metadata": {},
   "outputs": [],
   "source": [
    "# Mengganti nama kolom jika diperlukan\n",
    "kepadatan_data.rename(columns={'Provinsi': 'Province'}, inplace=True)\n",
    "jumlah_data.rename(columns={'Provinsi': 'Province'}, inplace=True)\n",
    "covid_data.rename(columns={'Provinsi': 'Province'}, inplace=True)"
   ]
  },
  {
   "cell_type": "markdown",
   "id": "8641f400-b8f0-4b79-bfa1-f9d604835c9a",
   "metadata": {},
   "source": [
    "##### Tahap 3: Menggabungkan Data\n",
    "Setelah memastikan nama kolom konsisten, kita akan menggabungkan ketiga DataFrame berdasarkan kolom 'Province'."
   ]
  },
  {
   "cell_type": "code",
   "execution_count": 36,
   "id": "a11c2f4f-94ca-494e-9c66-4b9a3e7206c8",
   "metadata": {},
   "outputs": [
    {
     "name": "stdout",
     "output_type": "stream",
     "text": [
      "Merged Data Columns: ['Unnamed: 0', 'Province', 'Kepadatan Penduduk menurut Provinsi (jiwa/km2)', 'Unnamed: 3_x', 'Unnamed: 4_x', 'Unnamed: 5_x', 'Unnamed: 6_x', 'Unnamed: 7_x', 'Unnamed: 8_x', 'Unnamed: 9_x', 'Unnamed: 10', 'Unnamed: 11', 'Jumlah Penduduk Hasil Proyeksi Menurut Provinsi dan Jenis Kelamin (Ribu Jiwa)', 'Unnamed: 2', 'Unnamed: 3_y', 'Unnamed: 4_y', 'Unnamed: 5_y', 'Unnamed: 6_y', 'Unnamed: 7_y', 'Unnamed: 8_y', 'Unnamed: 9_y', 'Object_ID', 'Tanggal', 'Kasus_Terkonfirmasi_Akumulatif', 'Penambahan_Harian_Kasus_Terkonf', 'Kasus_Sembuh_Akumulatif', 'Penambahan_Harian_Kasus_Sembuh', 'Kasus_Meninggal_Akumulatif', 'Penambahan_Harian_Kasus_Meningg', 'Kasus_Aktif_Akumulatif', 'CFR_Harian', 'RI_Harian', 'FID', 'ObjectId']\n"
     ]
    }
   ],
   "source": [
    "# Menggabungkan dataset berdasarkan nama provinsi\n",
    "merged_data = pd.merge(kepadatan_data, jumlah_data, on='Province')\n",
    "merged_data = pd.merge(merged_data, covid_data, on='Province')\n",
    "\n",
    "# Cek nama kolom setelah penggabungan\n",
    "print(\"Merged Data Columns:\", merged_data.columns.tolist())"
   ]
  },
  {
   "cell_type": "markdown",
   "id": "7561c58f-42e8-4b74-999f-d6f46cb56744",
   "metadata": {},
   "source": [
    "##### Tahap 4: Memilih Atribut untuk Clustering\n",
    "Kita perlu memilih 8 atribut yang relevan untuk analisis clustering. Atribut ini bisa bervariasi tergantung pada data yang tersedia, tetapi kita akan memilih beberapa yang umum digunakan."
   ]
  },
  {
   "cell_type": "code",
   "execution_count": 45,
   "id": "92b2fa76-13c2-4b14-a5a3-5fc18ee9258e",
   "metadata": {},
   "outputs": [
    {
     "ename": "KeyError",
     "evalue": "\"None of [Index(['Population Density', 'Total Population', 'COVID Cases', 'GDP',\\n       'Urbanization Rate', 'Health Index', 'Education Level',\\n       'Employment Rate'],\\n      dtype='object')] are in the [columns]\"",
     "output_type": "error",
     "traceback": [
      "\u001b[1;31m---------------------------------------------------------------------------\u001b[0m",
      "\u001b[1;31mKeyError\u001b[0m                                  Traceback (most recent call last)",
      "Cell \u001b[1;32mIn[45], line 2\u001b[0m\n\u001b[0;32m      1\u001b[0m \u001b[38;5;66;03m# Memilih 8 atribut yang relevan\u001b[39;00m\n\u001b[1;32m----> 2\u001b[0m features \u001b[38;5;241m=\u001b[39m \u001b[43mmerged_data\u001b[49m\u001b[43m[\u001b[49m\u001b[43m[\u001b[49m\u001b[38;5;124;43m'\u001b[39;49m\u001b[38;5;124;43mPopulation Density\u001b[39;49m\u001b[38;5;124;43m'\u001b[39;49m\u001b[43m,\u001b[49m\u001b[43m \u001b[49m\u001b[38;5;124;43m'\u001b[39;49m\u001b[38;5;124;43mTotal Population\u001b[39;49m\u001b[38;5;124;43m'\u001b[39;49m\u001b[43m,\u001b[49m\u001b[43m \u001b[49m\u001b[38;5;124;43m'\u001b[39;49m\u001b[38;5;124;43mCOVID Cases\u001b[39;49m\u001b[38;5;124;43m'\u001b[39;49m\u001b[43m,\u001b[49m\u001b[43m \u001b[49m\u001b[38;5;124;43m'\u001b[39;49m\u001b[38;5;124;43mGDP\u001b[39;49m\u001b[38;5;124;43m'\u001b[39;49m\u001b[43m,\u001b[49m\u001b[43m \u001b[49m\u001b[38;5;124;43m'\u001b[39;49m\u001b[38;5;124;43mUrbanization Rate\u001b[39;49m\u001b[38;5;124;43m'\u001b[39;49m\u001b[43m,\u001b[49m\u001b[43m \u001b[49m\u001b[38;5;124;43m'\u001b[39;49m\u001b[38;5;124;43mHealth Index\u001b[39;49m\u001b[38;5;124;43m'\u001b[39;49m\u001b[43m,\u001b[49m\u001b[43m \u001b[49m\u001b[38;5;124;43m'\u001b[39;49m\u001b[38;5;124;43mEducation Level\u001b[39;49m\u001b[38;5;124;43m'\u001b[39;49m\u001b[43m,\u001b[49m\u001b[43m \u001b[49m\u001b[38;5;124;43m'\u001b[39;49m\u001b[38;5;124;43mEmployment Rate\u001b[39;49m\u001b[38;5;124;43m'\u001b[39;49m\u001b[43m]\u001b[49m\u001b[43m]\u001b[49m\n",
      "File \u001b[1;32m~\\AppData\\Local\\Programs\\Python\\Python312\\Lib\\site-packages\\pandas\\core\\frame.py:4108\u001b[0m, in \u001b[0;36mDataFrame.__getitem__\u001b[1;34m(self, key)\u001b[0m\n\u001b[0;32m   4106\u001b[0m     \u001b[38;5;28;01mif\u001b[39;00m is_iterator(key):\n\u001b[0;32m   4107\u001b[0m         key \u001b[38;5;241m=\u001b[39m \u001b[38;5;28mlist\u001b[39m(key)\n\u001b[1;32m-> 4108\u001b[0m     indexer \u001b[38;5;241m=\u001b[39m \u001b[38;5;28;43mself\u001b[39;49m\u001b[38;5;241;43m.\u001b[39;49m\u001b[43mcolumns\u001b[49m\u001b[38;5;241;43m.\u001b[39;49m\u001b[43m_get_indexer_strict\u001b[49m\u001b[43m(\u001b[49m\u001b[43mkey\u001b[49m\u001b[43m,\u001b[49m\u001b[43m \u001b[49m\u001b[38;5;124;43m\"\u001b[39;49m\u001b[38;5;124;43mcolumns\u001b[39;49m\u001b[38;5;124;43m\"\u001b[39;49m\u001b[43m)\u001b[49m[\u001b[38;5;241m1\u001b[39m]\n\u001b[0;32m   4110\u001b[0m \u001b[38;5;66;03m# take() does not accept boolean indexers\u001b[39;00m\n\u001b[0;32m   4111\u001b[0m \u001b[38;5;28;01mif\u001b[39;00m \u001b[38;5;28mgetattr\u001b[39m(indexer, \u001b[38;5;124m\"\u001b[39m\u001b[38;5;124mdtype\u001b[39m\u001b[38;5;124m\"\u001b[39m, \u001b[38;5;28;01mNone\u001b[39;00m) \u001b[38;5;241m==\u001b[39m \u001b[38;5;28mbool\u001b[39m:\n",
      "File \u001b[1;32m~\\AppData\\Local\\Programs\\Python\\Python312\\Lib\\site-packages\\pandas\\core\\indexes\\base.py:6200\u001b[0m, in \u001b[0;36mIndex._get_indexer_strict\u001b[1;34m(self, key, axis_name)\u001b[0m\n\u001b[0;32m   6197\u001b[0m \u001b[38;5;28;01melse\u001b[39;00m:\n\u001b[0;32m   6198\u001b[0m     keyarr, indexer, new_indexer \u001b[38;5;241m=\u001b[39m \u001b[38;5;28mself\u001b[39m\u001b[38;5;241m.\u001b[39m_reindex_non_unique(keyarr)\n\u001b[1;32m-> 6200\u001b[0m \u001b[38;5;28;43mself\u001b[39;49m\u001b[38;5;241;43m.\u001b[39;49m\u001b[43m_raise_if_missing\u001b[49m\u001b[43m(\u001b[49m\u001b[43mkeyarr\u001b[49m\u001b[43m,\u001b[49m\u001b[43m \u001b[49m\u001b[43mindexer\u001b[49m\u001b[43m,\u001b[49m\u001b[43m \u001b[49m\u001b[43maxis_name\u001b[49m\u001b[43m)\u001b[49m\n\u001b[0;32m   6202\u001b[0m keyarr \u001b[38;5;241m=\u001b[39m \u001b[38;5;28mself\u001b[39m\u001b[38;5;241m.\u001b[39mtake(indexer)\n\u001b[0;32m   6203\u001b[0m \u001b[38;5;28;01mif\u001b[39;00m \u001b[38;5;28misinstance\u001b[39m(key, Index):\n\u001b[0;32m   6204\u001b[0m     \u001b[38;5;66;03m# GH 42790 - Preserve name from an Index\u001b[39;00m\n",
      "File \u001b[1;32m~\\AppData\\Local\\Programs\\Python\\Python312\\Lib\\site-packages\\pandas\\core\\indexes\\base.py:6249\u001b[0m, in \u001b[0;36mIndex._raise_if_missing\u001b[1;34m(self, key, indexer, axis_name)\u001b[0m\n\u001b[0;32m   6247\u001b[0m \u001b[38;5;28;01mif\u001b[39;00m nmissing:\n\u001b[0;32m   6248\u001b[0m     \u001b[38;5;28;01mif\u001b[39;00m nmissing \u001b[38;5;241m==\u001b[39m \u001b[38;5;28mlen\u001b[39m(indexer):\n\u001b[1;32m-> 6249\u001b[0m         \u001b[38;5;28;01mraise\u001b[39;00m \u001b[38;5;167;01mKeyError\u001b[39;00m(\u001b[38;5;124mf\u001b[39m\u001b[38;5;124m\"\u001b[39m\u001b[38;5;124mNone of [\u001b[39m\u001b[38;5;132;01m{\u001b[39;00mkey\u001b[38;5;132;01m}\u001b[39;00m\u001b[38;5;124m] are in the [\u001b[39m\u001b[38;5;132;01m{\u001b[39;00maxis_name\u001b[38;5;132;01m}\u001b[39;00m\u001b[38;5;124m]\u001b[39m\u001b[38;5;124m\"\u001b[39m)\n\u001b[0;32m   6251\u001b[0m     not_found \u001b[38;5;241m=\u001b[39m \u001b[38;5;28mlist\u001b[39m(ensure_index(key)[missing_mask\u001b[38;5;241m.\u001b[39mnonzero()[\u001b[38;5;241m0\u001b[39m]]\u001b[38;5;241m.\u001b[39munique())\n\u001b[0;32m   6252\u001b[0m     \u001b[38;5;28;01mraise\u001b[39;00m \u001b[38;5;167;01mKeyError\u001b[39;00m(\u001b[38;5;124mf\u001b[39m\u001b[38;5;124m\"\u001b[39m\u001b[38;5;132;01m{\u001b[39;00mnot_found\u001b[38;5;132;01m}\u001b[39;00m\u001b[38;5;124m not in index\u001b[39m\u001b[38;5;124m\"\u001b[39m)\n",
      "\u001b[1;31mKeyError\u001b[0m: \"None of [Index(['Population Density', 'Total Population', 'COVID Cases', 'GDP',\\n       'Urbanization Rate', 'Health Index', 'Education Level',\\n       'Employment Rate'],\\n      dtype='object')] are in the [columns]\""
     ]
    }
   ],
   "source": [
    "# Memilih 8 atribut yang relevan\n",
    "features = merged_data[['Population Density', 'Total Population', 'COVID Cases', 'GDP', 'Urbanization Rate', 'Health Index', 'Education Level', 'Employment Rate']]"
   ]
  },
  {
   "cell_type": "markdown",
   "id": "a41150a5-c28c-4d3e-b256-231460910ec3",
   "metadata": {},
   "source": [
    "##### Tahap 5: Normalisasi Data\n",
    "Sebelum melakukan clustering, kita perlu menormalkan data agar semua fitur memiliki skala yang sama. Kita akan menggunakan StandardScaler dari pustaka sklearn."
   ]
  },
  {
   "cell_type": "code",
   "execution_count": 39,
   "id": "b6abdcff-8362-46b0-b066-7fd43d7762e5",
   "metadata": {},
   "outputs": [
    {
     "ename": "NameError",
     "evalue": "name 'features' is not defined",
     "output_type": "error",
     "traceback": [
      "\u001b[1;31m---------------------------------------------------------------------------\u001b[0m",
      "\u001b[1;31mNameError\u001b[0m                                 Traceback (most recent call last)",
      "Cell \u001b[1;32mIn[39], line 5\u001b[0m\n\u001b[0;32m      3\u001b[0m \u001b[38;5;66;03m# Normalisasi data\u001b[39;00m\n\u001b[0;32m      4\u001b[0m scaler \u001b[38;5;241m=\u001b[39m StandardScaler()\n\u001b[1;32m----> 5\u001b[0m normalized_data \u001b[38;5;241m=\u001b[39m scaler\u001b[38;5;241m.\u001b[39mfit_transform(\u001b[43mfeatures\u001b[49m)\n",
      "\u001b[1;31mNameError\u001b[0m: name 'features' is not defined"
     ]
    }
   ],
   "source": [
    "from sklearn.preprocessing import StandardScaler\n",
    "\n",
    "# Normalisasi data\n",
    "scaler = StandardScaler()\n",
    "normalized_data = scaler.fit_transform(features)"
   ]
  },
  {
   "cell_type": "markdown",
   "id": "6191979b-e406-4d6d-8277-addbbc28f8c0",
   "metadata": {},
   "source": [
    "##### Tahap 6: Clustering\n",
    "Kita akan menggunakan algoritma K-Means untuk melakukan clustering dengan jumlah kelompok yang berbeda (3, 4, 5, 6, dan 7). Kita juga akan memvisualisasikan hasil clustering."
   ]
  },
  {
   "cell_type": "code",
   "execution_count": 40,
   "id": "7ba8b35d-e14f-4d4d-8be0-788cb20d82d5",
   "metadata": {},
   "outputs": [
    {
     "ename": "NameError",
     "evalue": "name 'normalized_data' is not defined",
     "output_type": "error",
     "traceback": [
      "\u001b[1;31m---------------------------------------------------------------------------\u001b[0m",
      "\u001b[1;31mNameError\u001b[0m                                 Traceback (most recent call last)",
      "Cell \u001b[1;32mIn[40], line 10\u001b[0m\n\u001b[0;32m      8\u001b[0m \u001b[38;5;28;01mfor\u001b[39;00m n_clusters \u001b[38;5;129;01min\u001b[39;00m cluster_numbers:\n\u001b[0;32m      9\u001b[0m     kmeans \u001b[38;5;241m=\u001b[39m KMeans(n_clusters\u001b[38;5;241m=\u001b[39mn_clusters, random_state\u001b[38;5;241m=\u001b[39m\u001b[38;5;241m42\u001b[39m)\n\u001b[1;32m---> 10\u001b[0m     labels \u001b[38;5;241m=\u001b[39m kmeans\u001b[38;5;241m.\u001b[39mfit_predict(\u001b[43mnormalized_data\u001b[49m)\n\u001b[0;32m     11\u001b[0m     cluster_labels[n_clusters] \u001b[38;5;241m=\u001b[39m labels\n\u001b[0;32m     13\u001b[0m     \u001b[38;5;66;03m# Visualisasi hasil clustering\u001b[39;00m\n",
      "\u001b[1;31mNameError\u001b[0m: name 'normalized_data' is not defined"
     ]
    }
   ],
   "source": [
    "from sklearn.cluster import KMeans\n",
    "import matplotlib.pyplot as plt\n",
    "\n",
    "# Menentukan jumlah cluster\n",
    "cluster_numbers = [3, 4, 5, 6, 7]\n",
    "cluster_labels = {}\n",
    "\n",
    "for n_clusters in cluster_numbers:\n",
    "    kmeans = KMeans(n_clusters=n_clusters, random_state=42)\n",
    "    labels = kmeans.fit_predict(normalized_data)\n",
    "    cluster_labels[n_clusters] = labels\n",
    "\n",
    "    # Visualisasi hasil clustering\n",
    "    plt.figure(figsize=(8, 6))\n",
    "    plt.scatter(normalized_data[:, 0], normalized_data[:, 1], c=labels, cmap='viridis')\n",
    "    plt.title(f'K-Means Clustering dengan {n_clusters} Kelompok')\n",
    "    plt.xlabel('Fitur 1')\n",
    "    plt.ylabel('Fitur 2')\n",
    "    plt.show()"
   ]
  },
  {
   "cell_type": "markdown",
   "id": "7af5f477-8388-44e8-91ac-5223501098f8",
   "metadata": {},
   "source": [
    "##### Tahap 7: Menetapkan Zona\n",
    "Setelah melakukan clustering, kita akan menetapkan zona (Hitam, Merah, Kuning, Hijau) berdasarkan hasil clustering. Kita akan menggunakan pemetaan sederhana untuk ini."
   ]
  },
  {
   "cell_type": "code",
   "execution_count": 41,
   "id": "50e6b587-47a9-4216-8311-070e8e9c127c",
   "metadata": {},
   "outputs": [],
   "source": [
    "# Menetapkan zona berdasarkan label cluster\n",
    "zone_mapping = {\n",
    "    0: 'Hijau',\n",
    "    1: 'Kuning',\n",
    "    2: 'Merah',\n",
    "    3: 'Hitam',\n",
    "    # Tambahkan lebih banyak pemetaan jika diperlukan\n",
    "}\n",
    "\n",
    "# Menambahkan kolom zona ke data yang digabungkan\n",
    "for n_clusters, labels in cluster_labels.items():\n",
    "    merged_data[f'Zone_{n_clusters}'] = [zone_mapping[label] for label in labels]"
   ]
  },
  {
   "cell_type": "markdown",
   "id": "9685de03-db09-4fb5-bc53-949bdb0cc6a8",
   "metadata": {},
   "source": [
    "##### Tahap 8: Menyimpan Hasil\n",
    "Terakhir, kita akan menyimpan dataset akhir dengan zona yang ditetapkan ke dalam file Excel."
   ]
  },
  {
   "cell_type": "code",
   "execution_count": null,
   "id": "1d8151b7-38d8-4a61-b029-8b4edffeebbe",
   "metadata": {},
   "outputs": [],
   "source": []
  }
 ],
 "metadata": {
  "kernelspec": {
   "display_name": "Python 3 (ipykernel)",
   "language": "python",
   "name": "python3"
  },
  "language_info": {
   "codemirror_mode": {
    "name": "ipython",
    "version": 3
   },
   "file_extension": ".py",
   "mimetype": "text/x-python",
   "name": "python",
   "nbconvert_exporter": "python",
   "pygments_lexer": "ipython3",
   "version": "3.12.6"
  }
 },
 "nbformat": 4,
 "nbformat_minor": 5
}
