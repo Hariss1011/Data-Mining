{
 "cells": [
  {
   "cell_type": "markdown",
   "id": "3a10187f-bc97-460b-89dd-8a9600b0cd00",
   "metadata": {},
   "source": [
    "# Nama: Akhmad Haris\n",
    "# Nim: A11.2022.14626 "
   ]
  },
  {
   "cell_type": "markdown",
   "id": "4d0711de-97a2-433a-91a8-62c8e16caad7",
   "metadata": {},
   "source": [
    "## Crop Yield Prediction Datase"
   ]
  },
  {
   "cell_type": "code",
   "execution_count": 1,
   "id": "e219bcd9-79a5-48bc-a31d-69b906881107",
   "metadata": {},
   "outputs": [],
   "source": [
    "from sklearn.linear_model import LinearRegression\n",
    "import numpy as np\n",
    "import pandas as pd"
   ]
  },
  {
   "cell_type": "code",
   "execution_count": 2,
   "id": "8c72ad65-2c9b-4f10-b61d-869b011fd82f",
   "metadata": {},
   "outputs": [],
   "source": [
    "# Load the dataset to explore its content\n",
    "file_path = 'yield.csv'\n",
    "dataset = pd.read_csv(file_path)"
   ]
  },
  {
   "cell_type": "markdown",
   "id": "7ad2d740-b403-4909-b655-72352fd2616c",
   "metadata": {},
   "source": [
    "### Sample Data (5 Baris Pertama)"
   ]
  },
  {
   "cell_type": "code",
   "execution_count": 3,
   "id": "6781b12c-4d74-405d-bbe9-a6b047453229",
   "metadata": {},
   "outputs": [
    {
     "name": "stdout",
     "output_type": "stream",
     "text": [
      "<class 'pandas.core.frame.DataFrame'>\n",
      "RangeIndex: 56717 entries, 0 to 56716\n",
      "Data columns (total 12 columns):\n",
      " #   Column        Non-Null Count  Dtype \n",
      "---  ------        --------------  ----- \n",
      " 0   Domain Code   56717 non-null  object\n",
      " 1   Domain        56717 non-null  object\n",
      " 2   Area Code     56717 non-null  int64 \n",
      " 3   Area          56717 non-null  object\n",
      " 4   Element Code  56717 non-null  int64 \n",
      " 5   Element       56717 non-null  object\n",
      " 6   Item Code     56717 non-null  int64 \n",
      " 7   Item          56717 non-null  object\n",
      " 8   Year Code     56717 non-null  int64 \n",
      " 9   Year          56717 non-null  int64 \n",
      " 10  Unit          56717 non-null  object\n",
      " 11  Value         56717 non-null  int64 \n",
      "dtypes: int64(6), object(6)\n",
      "memory usage: 5.2+ MB\n"
     ]
    },
    {
     "data": {
      "text/plain": [
       "(None,\n",
       "   Domain Code Domain  Area Code         Area  Element Code Element  Item Code  \\\n",
       " 0          QC  Crops          2  Afghanistan          5419   Yield         56   \n",
       " 1          QC  Crops          2  Afghanistan          5419   Yield         56   \n",
       " 2          QC  Crops          2  Afghanistan          5419   Yield         56   \n",
       " 3          QC  Crops          2  Afghanistan          5419   Yield         56   \n",
       " 4          QC  Crops          2  Afghanistan          5419   Yield         56   \n",
       " \n",
       "     Item  Year Code  Year   Unit  Value  \n",
       " 0  Maize       1961  1961  hg/ha  14000  \n",
       " 1  Maize       1962  1962  hg/ha  14000  \n",
       " 2  Maize       1963  1963  hg/ha  14260  \n",
       " 3  Maize       1964  1964  hg/ha  14257  \n",
       " 4  Maize       1965  1965  hg/ha  14400  )"
      ]
     },
     "execution_count": 3,
     "metadata": {},
     "output_type": "execute_result"
    }
   ],
   "source": [
    "# Display the first few rows and basic information about the dataset\n",
    "dataset_info = dataset.info()\n",
    "sample_data = dataset.head(5)\n",
    "\n",
    "dataset_info, sample_data"
   ]
  },
  {
   "cell_type": "markdown",
   "id": "de08d177-0004-4767-a822-acbf3e306bb5",
   "metadata": {},
   "source": [
    "- Selanjutnya, kita akan melakukan eksperimen pada subset kecil (5 data) untuk analisis sederhana menggunakan regresi linear. Saya akan memilih data untuk satu negara (Afghanistan) dan satu jenis tanaman (Maize) dari tahun 1961-1965 untuk prediksi hasil panen di tahun berikutnya."
   ]
  },
  {
   "cell_type": "code",
   "execution_count": 4,
   "id": "4a0e32c7-3226-445b-9482-d805bca3e8dd",
   "metadata": {},
   "outputs": [],
   "source": [
    "# Filter dataset for a small subset: Afghanistan, Maize, 1961-1965\n",
    "subset = dataset[(dataset['Area'] == 'Afghanistan') & \n",
    "                 (dataset['Item'] == 'Maize') & \n",
    "                 (dataset['Year'].between(1961, 1965))]"
   ]
  },
  {
   "cell_type": "markdown",
   "id": "944b939c-7948-4272-af55-e5aa18cfc5bd",
   "metadata": {},
   "source": [
    "- Data yang digunakan untuk eksperimen regresi linear adalah hasil panen tanaman jagung (Maize) di Afghanistan dari tahun 1961 hingga 1965."
   ]
  },
  {
   "cell_type": "code",
   "execution_count": 5,
   "id": "a8d93a5a-e68b-4b07-be65-503b834997b6",
   "metadata": {},
   "outputs": [
    {
     "data": {
      "text/html": [
       "<div>\n",
       "<style scoped>\n",
       "    .dataframe tbody tr th:only-of-type {\n",
       "        vertical-align: middle;\n",
       "    }\n",
       "\n",
       "    .dataframe tbody tr th {\n",
       "        vertical-align: top;\n",
       "    }\n",
       "\n",
       "    .dataframe thead th {\n",
       "        text-align: right;\n",
       "    }\n",
       "</style>\n",
       "<table border=\"1\" class=\"dataframe\">\n",
       "  <thead>\n",
       "    <tr style=\"text-align: right;\">\n",
       "      <th></th>\n",
       "      <th>Year</th>\n",
       "      <th>Value</th>\n",
       "    </tr>\n",
       "  </thead>\n",
       "  <tbody>\n",
       "    <tr>\n",
       "      <th>0</th>\n",
       "      <td>1961</td>\n",
       "      <td>14000</td>\n",
       "    </tr>\n",
       "    <tr>\n",
       "      <th>1</th>\n",
       "      <td>1962</td>\n",
       "      <td>14000</td>\n",
       "    </tr>\n",
       "    <tr>\n",
       "      <th>2</th>\n",
       "      <td>1963</td>\n",
       "      <td>14260</td>\n",
       "    </tr>\n",
       "    <tr>\n",
       "      <th>3</th>\n",
       "      <td>1964</td>\n",
       "      <td>14257</td>\n",
       "    </tr>\n",
       "    <tr>\n",
       "      <th>4</th>\n",
       "      <td>1965</td>\n",
       "      <td>14400</td>\n",
       "    </tr>\n",
       "  </tbody>\n",
       "</table>\n",
       "</div>"
      ],
      "text/plain": [
       "   Year  Value\n",
       "0  1961  14000\n",
       "1  1962  14000\n",
       "2  1963  14260\n",
       "3  1964  14257\n",
       "4  1965  14400"
      ]
     },
     "execution_count": 5,
     "metadata": {},
     "output_type": "execute_result"
    }
   ],
   "source": [
    "# Prepare data for regression: Year as independent variable, Value as dependent variable\n",
    "subset_for_regression = subset[['Year', 'Value']]\n",
    "\n",
    "subset_for_regression"
   ]
  },
  {
   "cell_type": "markdown",
   "id": "12b7e532-edbc-4352-9e72-3631cc09a8f5",
   "metadata": {},
   "source": [
    "- Regresi linear akan dilakukan dengan variabel independen Tahun dan variabel dependen Hasil Panen (Value). Tujuannya adalah untuk memprediksi hasil panen di tahun-tahun berikutnya, misalnya tahun 1966."
   ]
  },
  {
   "cell_type": "code",
   "execution_count": 6,
   "id": "a213615c-0b64-4574-b757-2b9a5513bd12",
   "metadata": {},
   "outputs": [],
   "source": [
    "# Extract Year and Value as numpy arrays for regression\n",
    "X = subset_for_regression['Year'].values.reshape(-1, 1)\n",
    "y = subset_for_regression['Value'].values\n",
    "\n",
    "# Initialize and fit the linear regression model\n",
    "model = LinearRegression()\n",
    "model.fit(X, y)\n",
    "\n",
    "# Predict the yield for 1966\n",
    "year_to_predict = np.array([[1966]])\n",
    "predicted_value = model.predict(year_to_predict)"
   ]
  },
  {
   "cell_type": "markdown",
   "id": "74411a05-5c2c-43d1-a7ab-ff5156fc56f2",
   "metadata": {},
   "source": [
    "#### 1. Persamaan Regresi:\n",
    "    - Y=105.7×Year−193305.7\n",
    "        - Slope (kemiringan): 105.7 (peningkatan rata-rata hasil panen per tahun).\n",
    "        - Intercept (titik potong): -193305.7 (nilai teoretis ketika tahun = 0).\n",
    "#### 2. Prediksi Tahun 1966:\n",
    "   > Menggunakan model ini, hasil panen diprediksi sebesar 14.500,5 hg/ha untuk tahun 1966.\n",
    "\n"
   ]
  },
  {
   "cell_type": "code",
   "execution_count": 7,
   "id": "4b427a66-24d5-4055-bffd-def73856d8a3",
   "metadata": {},
   "outputs": [
    {
     "data": {
      "text/plain": [
       "(np.float64(14500.5),\n",
       " np.float64(105.70000000000002),\n",
       " np.float64(-193305.70000000004))"
      ]
     },
     "execution_count": 7,
     "metadata": {},
     "output_type": "execute_result"
    }
   ],
   "source": [
    "# Coefficients and prediction result\n",
    "slope = model.coef_[0]\n",
    "intercept = model.intercept_\n",
    "predicted_value[0], slope, intercept"
   ]
  },
  {
   "cell_type": "markdown",
   "id": "52ea3c88-aec2-437e-be51-ef375f8906c5",
   "metadata": {},
   "source": [
    "### Penjelasan:\n",
    "- Model ini menunjukkan bahwa hasil panen di Afghanistan untuk jagung meningkat secara konsisten sekitar 105.7 hg/ha setiap tahun dari 1961 hingga 1965.\n",
    "- Prediksi ini mungkin tidak akurat untuk jangka panjang karena asumsi tren linear, sehingga validasi tambahan pada data lebih luas diperlukan."
   ]
  },
  {
   "cell_type": "code",
   "execution_count": null,
   "id": "e9abf112-9b16-4d5a-98c6-d780ea76f2ce",
   "metadata": {},
   "outputs": [],
   "source": []
  }
 ],
 "metadata": {
  "kernelspec": {
   "display_name": "Python 3 (ipykernel)",
   "language": "python",
   "name": "python3"
  },
  "language_info": {
   "codemirror_mode": {
    "name": "ipython",
    "version": 3
   },
   "file_extension": ".py",
   "mimetype": "text/x-python",
   "name": "python",
   "nbconvert_exporter": "python",
   "pygments_lexer": "ipython3",
   "version": "3.12.6"
  }
 },
 "nbformat": 4,
 "nbformat_minor": 5
}
