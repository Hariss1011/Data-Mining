{
 "cells": [
  {
   "cell_type": "markdown",
   "id": "c18b4e13-f151-4105-9d3a-0b3139e2031b",
   "metadata": {},
   "source": [
    "# Nama: Akhmad Haris\n",
    "# Nim: A11.2022.14626 "
   ]
  },
  {
   "cell_type": "markdown",
   "id": "86b39ae4-d79b-46eb-8bde-74fef1a93b38",
   "metadata": {},
   "source": [
    "### PRODUKSI PADI                   "
   ]
  },
  {
   "cell_type": "code",
   "execution_count": 12,
   "id": "1845ec25-97f8-4e39-84a9-b882d6829b04",
   "metadata": {},
   "outputs": [],
   "source": [
    "import pandas as pd\n",
    "from sklearn.model_selection import train_test_split\n",
    "from sklearn.linear_model import LinearRegression\n",
    "from sklearn.metrics import mean_squared_error, mean_absolute_percentage_error\n",
    "import numpy as np\n",
    "from tabulate import tabulate\n",
    "import matplotlib.pyplot as plt"
   ]
  },
  {
   "cell_type": "code",
   "execution_count": 13,
   "id": "22d05bc2-75a4-48b5-aff7-e3db1e3e00b5",
   "metadata": {},
   "outputs": [],
   "source": [
    "# Load dataset\n",
    "file_path = 'produksiPadi.xlsx'  # Ganti dengan lokasi file Anda\n",
    "data = pd.read_excel(file_path, sheet_name='data training')"
   ]
  },
  {
   "cell_type": "code",
   "execution_count": 14,
   "id": "b1363cfb-fb84-4e67-a4f1-59c3caea37ee",
   "metadata": {},
   "outputs": [],
   "source": [
    "# Menambahkan kolom lagging\n",
    "data['Produksi_Lag'] = data['Produksi Padi(Ton)'].shift(1)\n",
    "data = data.dropna()  # Hapus nilai NaN akibat lagging"
   ]
  },
  {
   "cell_type": "markdown",
   "id": "4ae96b41-8ea7-4bed-a53b-0dae417128af",
   "metadata": {},
   "source": [
    "#### Menambahkan Kolom Lagging :\n",
    "\n",
    "- Kolom Produksi_Lag dibuat untuk menyimpan data produksi padi dari tahun sebelumnya, memungkinkan analisis hubungan antara produksi saat ini dan produksi sebelumnya.\n",
    "- Baris dengan nilai NaN akibat lagging dihapus untuk memastikan data bersih."
   ]
  },
  {
   "cell_type": "code",
   "execution_count": 15,
   "id": "6b86530d-f275-4bf9-831a-648b46f67d21",
   "metadata": {},
   "outputs": [],
   "source": [
    "# Define features (X) dan target (y)\n",
    "X = data[['Produksi_Lag']]\n",
    "y = data['Produksi Padi(Ton)']\n",
    "\n",
    "# Split dataset (70% training, 30% testing)\n",
    "X_train, X_test, y_train, y_test = train_test_split(X, y, test_size=0.3, random_state=42, shuffle=False)"
   ]
  },
  {
   "cell_type": "markdown",
   "id": "94f20d79-1774-40da-89d1-c5088565c2d0",
   "metadata": {},
   "source": [
    "#### Membagi Dataset :\n",
    "\n",
    "- Data dibagi menjadi 70% untuk training (melatih model) dan 30% untuk testing (mengukur performa model).\n",
    "- Tidak ada pengacakan (shuffle=False) untuk menjaga urutan waktu."
   ]
  },
  {
   "cell_type": "code",
   "execution_count": 16,
   "id": "4bd5aa86-78fc-4b1b-a090-4c254d68aa96",
   "metadata": {},
   "outputs": [],
   "source": [
    "# Model Linear Regression\n",
    "model = LinearRegression()\n",
    "model.fit(X_train, y_train)\n",
    "\n",
    "# Prediksi untuk data testing\n",
    "y_pred = model.predict(X_test)"
   ]
  },
  {
   "cell_type": "markdown",
   "id": "c64da005-5dd4-4d9e-8b20-d315028572c6",
   "metadata": {},
   "source": [
    "#### Model Linear Regression :\n",
    "\n",
    "- Model regresi linear dilatih menggunakan data training.\n",
    "- Model mencoba memahami hubungan linier antara Produksi_Lag (produksi tahun sebelumnya) dan Produksi Padi(Ton) (produksi tahun saat ini)."
   ]
  },
  {
   "cell_type": "code",
   "execution_count": 17,
   "id": "939e2378-d7b0-4ec7-b6d9-b49ce148cb8f",
   "metadata": {},
   "outputs": [
    {
     "name": "stdout",
     "output_type": "stream",
     "text": [
      "\n",
      "Evaluasi Model:\n",
      "╒══════════╤═════════════╕\n",
      "│ Metode   │       Hasil │\n",
      "╞══════════╪═════════════╡\n",
      "│ MSE      │ 3.67881e+13 │\n",
      "├──────────┼─────────────┤\n",
      "│ RMSE     │ 6.06532e+06 │\n",
      "├──────────┼─────────────┤\n",
      "│ MAPE (%) │ 5.56        │\n",
      "╘══════════╧═════════════╛\n"
     ]
    }
   ],
   "source": [
    "# Evaluasi model\n",
    "mse = mean_squared_error(y_test, y_pred)\n",
    "rmse = np.sqrt(mse)\n",
    "mape = mean_absolute_percentage_error(y_test, y_pred)\n",
    "\n",
    "# Tampilkan evaluasi dalam tabel\n",
    "evaluasi = [[\"MSE\", f\"{mse:.2f}\"],\n",
    "            [\"RMSE\", f\"{rmse:.2f}\"],\n",
    "            [\"MAPE (%)\", f\"{mape * 100:.2f}\"]]\n",
    "print(\"\\nEvaluasi Model:\")\n",
    "print(tabulate(evaluasi, headers=[\"Metode\", \"Hasil\"], tablefmt=\"fancy_grid\"))"
   ]
  },
  {
   "cell_type": "markdown",
   "id": "6e0e8de3-c92c-4d81-9fca-8700e2428c81",
   "metadata": {},
   "source": [
    "#### Evaluasi Model :\n",
    "\n",
    "- MSE (Mean Squared Error): Mengukur rata-rata kuadrat kesalahan prediksi. Semakin kecil nilainya, semakin baik model.\n",
    "- RMSE (Root Mean Squared Error): Akar kuadrat dari MSE, memberikan unit yang sama dengan data asli.\n",
    "- MAPE (Mean Absolute Percentage Error): Mengukur kesalahan rata-rata dalam bentuk persentase. Nilai MAPE kecil (misalnya, di bawah 10%) menunjukkan model yang sangat akurat."
   ]
  },
  {
   "cell_type": "code",
   "execution_count": 22,
   "id": "30c29b16-46f4-494e-898e-1bbaa852cf89",
   "metadata": {},
   "outputs": [
    {
     "name": "stdout",
     "output_type": "stream",
     "text": [
      "\n",
      "Prediksi Produksi Padi:\n",
      "╒═════════╤═══════════════════╕\n",
      "│   Tahun │ Produksi          │\n",
      "╞═════════╪═══════════════════╡\n",
      "│    2023 │ 54,928,021.58 Ton │\n",
      "├─────────┼───────────────────┤\n",
      "│    2024 │ 55,502,340.65 Ton │\n",
      "╘═════════╧═══════════════════╛\n"
     ]
    },
    {
     "name": "stderr",
     "output_type": "stream",
     "text": [
      "C:\\Users\\bimoc\\AppData\\Local\\Programs\\Python\\Python312\\Lib\\site-packages\\sklearn\\base.py:493: UserWarning: X does not have valid feature names, but LinearRegression was fitted with feature names\n",
      "  warnings.warn(\n",
      "C:\\Users\\bimoc\\AppData\\Local\\Programs\\Python\\Python312\\Lib\\site-packages\\sklearn\\base.py:493: UserWarning: X does not have valid feature names, but LinearRegression was fitted with feature names\n",
      "  warnings.warn(\n"
     ]
    }
   ],
   "source": [
    "# Prediksi untuk tahun 2023 dan 2024\n",
    "latest_production = data['Produksi Padi(Ton)'].iloc[-1]\n",
    "pred_2023 = model.predict([[latest_production]])\n",
    "pred_2024 = model.predict([[pred_2023[0]]])\n",
    "\n",
    "# Tampilkan prediksi dalam tabel\n",
    "prediksi = [[\"2023\", f\"{pred_2023[0]:,.2f} Ton\"],\n",
    "            [\"2024\", f\"{pred_2024[0]:,.2f} Ton\"]]\n",
    "print(\"\\nPrediksi Produksi Padi:\")\n",
    "print(tabulate(prediksi, headers=[\"Tahun\", \"Produksi\"], tablefmt=\"fancy_grid\"))"
   ]
  },
  {
   "cell_type": "markdown",
   "id": "fd65cb62-7f96-43f6-bb66-4fc29944c04f",
   "metadata": {},
   "source": [
    "#### Prediksi Tahun 2023 dan 2024 :\n",
    "\n",
    "- Prediksi didasarkan pada nilai produksi terakhir di data.\n",
    "- Prediksi tahun 2023 menggunakan hasil tahun terakhir dalam data.\n",
    "- Prediksi tahun 2024 menggunakan hasil prediksi untuk tahun 2023."
   ]
  },
  {
   "cell_type": "code",
   "execution_count": 10,
   "id": "ec3641ca-0605-4ace-82d2-182bc821851b",
   "metadata": {},
   "outputs": [
    {
     "data": {
      "image/png": "[encoded data removed]",
      "text/plain": [
       "<Figure size 1200x600 with 1 Axes>"
      ]
     },
     "metadata": {},
     "output_type": "display_data"
    }
   ],
   "source": [
    "# Plot data asli dan prediksi\n",
    "plt.figure(figsize=(12, 6))\n",
    "plt.plot(data['Tahun'], data['Produksi Padi(Ton)'], label='Data Asli', marker='o')\n",
    "plt.plot(X_test.index, y_pred, label='Prediksi', linestyle='--', color='red')\n",
    "plt.title(\"Produksi Padi: Data Asli vs Prediksi\", fontsize=16)\n",
    "plt.xlabel(\"Tahun\", fontsize=12)\n",
    "plt.ylabel(\"Produksi Padi (Ton)\", fontsize=12)\n",
    "plt.legend()\n",
    "plt.grid()\n",
    "plt.show()"
   ]
  },
  {
   "cell_type": "markdown",
   "id": "5beb9b68-dff0-45a1-9a0b-09937b20e84d",
   "metadata": {},
   "source": [
    "#### Visualisasi :\n",
    "\n",
    "- Data Asli ditampilkan sebagai grafik garis dengan titik-titik (biru).\n",
    "- Prediksi untuk data testing ditampilkan sebagai garis putus-putus (merah).\n",
    "- Grafik ini memudahkan untuk membandingkan data asli dengan hasil prediksi model."
   ]
  },
  {
   "cell_type": "code",
   "execution_count": null,
   "id": "d6a62047-01a1-47b5-af40-7930b85daf84",
   "metadata": {},
   "outputs": [],
   "source": []
  }
 ],
 "metadata": {
  "kernelspec": {
   "display_name": "Python 3 (ipykernel)",
   "language": "python",
   "name": "python3"
  },
  "language_info": {
   "codemirror_mode": {
    "name": "ipython",
    "version": 3
   },
   "file_extension": ".py",
   "mimetype": "text/x-python",
   "name": "python",
   "nbconvert_exporter": "python",
   "pygments_lexer": "ipython3",
   "version": "3.12.4"
  }
 },
 "nbformat": 4,
 "nbformat_minor": 5
}
