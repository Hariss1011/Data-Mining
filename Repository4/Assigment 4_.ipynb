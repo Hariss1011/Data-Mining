{
 "cells": [
  {
   "cell_type": "code",
   "execution_count": 1,
   "id": "92f2ed20-223a-4052-8ef9-296d657a49e1",
   "metadata": {},
   "outputs": [],
   "source": [
    "from sklearn.linear_model import LinearRegression\n",
    "from sklearn.metrics import mean_squared_error, mean_absolute_percentage_error\n",
    "import numpy as np\n",
    "import pandas as pd"
   ]
  },
  {
   "cell_type": "code",
   "execution_count": 2,
   "id": "2290dd38-12d2-45ea-a7c1-4cd1918e40ee",
   "metadata": {},
   "outputs": [],
   "source": [
    "# Load the uploaded Excel file\n",
    "file_path = 'produksiPadi.xlsx'\n",
    "data = pd.read_excel(file_path)"
   ]
  },
  {
   "cell_type": "code",
   "execution_count": 3,
   "id": "797aeb0e-c43d-486b-bccb-ce46c8ad60b3",
   "metadata": {},
   "outputs": [
    {
     "data": {
      "text/html": [
       "<div>\n",
       "<style scoped>\n",
       "    .dataframe tbody tr th:only-of-type {\n",
       "        vertical-align: middle;\n",
       "    }\n",
       "\n",
       "    .dataframe tbody tr th {\n",
       "        vertical-align: top;\n",
       "    }\n",
       "\n",
       "    .dataframe thead th {\n",
       "        text-align: right;\n",
       "    }\n",
       "</style>\n",
       "<table border=\"1\" class=\"dataframe\">\n",
       "  <thead>\n",
       "    <tr style=\"text-align: right;\">\n",
       "      <th></th>\n",
       "      <th>Tahun</th>\n",
       "      <th>Produksi Padi(Ton)</th>\n",
       "    </tr>\n",
       "  </thead>\n",
       "  <tbody>\n",
       "    <tr>\n",
       "      <th>0</th>\n",
       "      <td>1970</td>\n",
       "      <td>18693649.0</td>\n",
       "    </tr>\n",
       "    <tr>\n",
       "      <th>1</th>\n",
       "      <td>1971</td>\n",
       "      <td>20483687.0</td>\n",
       "    </tr>\n",
       "    <tr>\n",
       "      <th>2</th>\n",
       "      <td>1972</td>\n",
       "      <td>19393933.0</td>\n",
       "    </tr>\n",
       "    <tr>\n",
       "      <th>3</th>\n",
       "      <td>1973</td>\n",
       "      <td>21490578.0</td>\n",
       "    </tr>\n",
       "    <tr>\n",
       "      <th>4</th>\n",
       "      <td>1974</td>\n",
       "      <td>22476073.0</td>\n",
       "    </tr>\n",
       "  </tbody>\n",
       "</table>\n",
       "</div>"
      ],
      "text/plain": [
       "   Tahun  Produksi Padi(Ton)\n",
       "0   1970          18693649.0\n",
       "1   1971          20483687.0\n",
       "2   1972          19393933.0\n",
       "3   1973          21490578.0\n",
       "4   1974          22476073.0"
      ]
     },
     "execution_count": 3,
     "metadata": {},
     "output_type": "execute_result"
    }
   ],
   "source": [
    "# Display the first few rows of the dataset to understand its structure\n",
    "data.head()"
   ]
  },
  {
   "cell_type": "code",
   "execution_count": 4,
   "id": "52f031e0-c4ad-4059-9d1c-98c45e8fc0e6",
   "metadata": {},
   "outputs": [
    {
     "data": {
      "text/html": [
       "<div>\n",
       "<style scoped>\n",
       "    .dataframe tbody tr th:only-of-type {\n",
       "        vertical-align: middle;\n",
       "    }\n",
       "\n",
       "    .dataframe tbody tr th {\n",
       "        vertical-align: top;\n",
       "    }\n",
       "\n",
       "    .dataframe thead th {\n",
       "        text-align: right;\n",
       "    }\n",
       "</style>\n",
       "<table border=\"1\" class=\"dataframe\">\n",
       "  <thead>\n",
       "    <tr style=\"text-align: right;\">\n",
       "      <th></th>\n",
       "      <th>Year</th>\n",
       "      <th>Rice_Production</th>\n",
       "      <th>Lagged_Production</th>\n",
       "    </tr>\n",
       "  </thead>\n",
       "  <tbody>\n",
       "    <tr>\n",
       "      <th>1</th>\n",
       "      <td>1971</td>\n",
       "      <td>20483687.0</td>\n",
       "      <td>18693649.0</td>\n",
       "    </tr>\n",
       "    <tr>\n",
       "      <th>2</th>\n",
       "      <td>1972</td>\n",
       "      <td>19393933.0</td>\n",
       "      <td>20483687.0</td>\n",
       "    </tr>\n",
       "    <tr>\n",
       "      <th>3</th>\n",
       "      <td>1973</td>\n",
       "      <td>21490578.0</td>\n",
       "      <td>19393933.0</td>\n",
       "    </tr>\n",
       "    <tr>\n",
       "      <th>4</th>\n",
       "      <td>1974</td>\n",
       "      <td>22476073.0</td>\n",
       "      <td>21490578.0</td>\n",
       "    </tr>\n",
       "    <tr>\n",
       "      <th>5</th>\n",
       "      <td>1975</td>\n",
       "      <td>22339455.0</td>\n",
       "      <td>22476073.0</td>\n",
       "    </tr>\n",
       "  </tbody>\n",
       "</table>\n",
       "</div>"
      ],
      "text/plain": [
       "   Year  Rice_Production  Lagged_Production\n",
       "1  1971       20483687.0         18693649.0\n",
       "2  1972       19393933.0         20483687.0\n",
       "3  1973       21490578.0         19393933.0\n",
       "4  1974       22476073.0         21490578.0\n",
       "5  1975       22339455.0         22476073.0"
      ]
     },
     "execution_count": 4,
     "metadata": {},
     "output_type": "execute_result"
    }
   ],
   "source": [
    "# Cleaning the dataset: Selecting relevant columns\n",
    "data_cleaned = data[['Tahun', 'Produksi Padi(Ton)']].dropna()\n",
    "\n",
    "# Rename columns for easier handling\n",
    "data_cleaned.columns = ['Year', 'Rice_Production']\n",
    "\n",
    "# Create a lagged feature for Rice Production\n",
    "data_cleaned['Lagged_Production'] = data_cleaned['Rice_Production'].shift(1)\n",
    "\n",
    "# Drop rows with NaN values after lagging\n",
    "data_cleaned = data_cleaned.dropna()\n",
    "\n",
    "# Splitting the data into 70% training and 30% testing\n",
    "train_ratio = 0.7\n",
    "train_size = int(len(data_cleaned) * train_ratio)\n",
    "\n",
    "train_data = data_cleaned[:train_size]\n",
    "test_data = data_cleaned[train_size:]\n",
    "\n",
    "train_X = train_data[['Lagged_Production']]\n",
    "train_y = train_data['Rice_Production']\n",
    "test_X = test_data[['Lagged_Production']]\n",
    "test_y = test_data['Rice_Production']\n",
    "\n",
    "# Displaying the cleaned and prepared dataset\n",
    "data_cleaned.head()"
   ]
  },
  {
   "cell_type": "code",
   "execution_count": 5,
   "id": "9fb44bff-9705-4611-a854-4194c991b827",
   "metadata": {},
   "outputs": [
    {
     "data": {
      "text/plain": [
       "(np.float64(36788069362837.18),\n",
       " np.float64(6065316.921879448),\n",
       " np.float64(0.05555596706797071))"
      ]
     },
     "execution_count": 5,
     "metadata": {},
     "output_type": "execute_result"
    }
   ],
   "source": [
    "# Initialize and train the Linear Regression model\n",
    "model = LinearRegression()\n",
    "model.fit(train_X, train_y)\n",
    "\n",
    "# Predict on the test set\n",
    "predictions = model.predict(test_X)\n",
    "\n",
    "# Evaluate the model\n",
    "mse = mean_squared_error(test_y, predictions)\n",
    "rmse = np.sqrt(mse)\n",
    "mape = mean_absolute_percentage_error(test_y, predictions)\n",
    "\n",
    "mse, rmse, mape"
   ]
  },
  {
   "cell_type": "markdown",
   "id": "2759363f-3161-46c8-b201-9ec7a0d2dbe3",
   "metadata": {},
   "source": [
    "- Data Di Atas Adalah Memprediksi produksi padi untuk tahun 2023 dan 2024 menggunakan model ini."
   ]
  },
  {
   "cell_type": "code",
   "execution_count": null,
   "id": "f17f6496-d597-4af6-9dcc-99ba6dda55c1",
   "metadata": {},
   "outputs": [],
   "source": []
  }
 ],
 "metadata": {
  "kernelspec": {
   "display_name": "Python 3 (ipykernel)",
   "language": "python",
   "name": "python3"
  },
  "language_info": {
   "codemirror_mode": {
    "name": "ipython",
    "version": 3
   },
   "file_extension": ".py",
   "mimetype": "text/x-python",
   "name": "python",
   "nbconvert_exporter": "python",
   "pygments_lexer": "ipython3",
   "version": "3.12.4"
  }
 },
 "nbformat": 4,
 "nbformat_minor": 5
}
